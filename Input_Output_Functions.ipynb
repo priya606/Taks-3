{
  "nbformat": 4,
  "nbformat_minor": 0,
  "metadata": {
    "colab": {
      "name": "Input Output Functions",
      "provenance": [],
      "collapsed_sections": [],
      "authorship_tag": "ABX9TyMkcICjP8mCdGVKs4Q7TCgY",
      "include_colab_link": true
    },
    "kernelspec": {
      "name": "python3",
      "display_name": "Python 3"
    },
    "language_info": {
      "name": "python"
    }
  },
  "cells": [
    {
      "cell_type": "markdown",
      "metadata": {
        "id": "view-in-github",
        "colab_type": "text"
      },
      "source": [
        "<a href=\"https://colab.research.google.com/github/priya606/Taks-3/blob/main/Input_Output_Functions.ipynb\" target=\"_parent\"><img src=\"https://colab.research.google.com/assets/colab-badge.svg\" alt=\"Open In Colab\"/></a>"
      ]
    },
    {
      "cell_type": "markdown",
      "metadata": {
        "id": "4Ep-O69niIpr"
      },
      "source": [
        "##Assignment-1\n",
        "\n",
        "---\n",
        "\n",
        "\n",
        "###Accept student details with 5marks calculate total,average along with student details\n"
      ]
    },
    {
      "cell_type": "code",
      "metadata": {
        "colab": {
          "base_uri": "https://localhost:8080/"
        },
        "id": "DaG__onIiL5Q",
        "outputId": "72c1e51f-08e5-4391-f366-9bd8f2937fed"
      },
      "source": [
        "sname=input('enter the student name: ')\n",
        "eng=int(input('enter english marks: '))\n",
        "maths=int(input('enter mathematics marks: '))\n",
        "sci=int(input('enter science marks: '))\n",
        "social=int(input('enter social marks: '))\n",
        "telugu=int(input('enter your telugu marks: '))\n",
        "total=(eng+maths+sci+social+telugu)\n",
        "print(total)\n",
        "average=(total)/5\n",
        "print(average)"
      ],
      "execution_count": null,
      "outputs": [
        {
          "output_type": "stream",
          "name": "stdout",
          "text": [
            "enter the student name: divya\n",
            "enter english marks: 40\n",
            "enter mathematics marks: 45\n",
            "enter science marks: 30\n",
            "enter social marks: 20\n",
            "enter your telugu marks: 80\n",
            "215\n",
            "43.0\n"
          ]
        }
      ]
    },
    {
      "cell_type": "markdown",
      "metadata": {
        "id": "pQfERpvAj7yf"
      },
      "source": [
        "## Assignment-2\n",
        "\n",
        "---\n",
        "###Accept 3 numbers from user calculate\n",
        "\n",
        "\n",
        "*   addition\n",
        "\n",
        "*   subraction\n",
        "*  multiplication\n",
        "\n",
        "\n",
        "\n",
        "\n"
      ]
    },
    {
      "cell_type": "code",
      "metadata": {
        "colab": {
          "base_uri": "https://localhost:8080/"
        },
        "id": "F6BH_65MiMOG",
        "outputId": "6defb4a3-4d5d-4fa6-8f6b-3e76c66cb932"
      },
      "source": [
        "a=int(input('enter num1: '))\n",
        "b=int(input('enter num2: '))\n",
        "c=int(input('enter num3: '))\n",
        "d=(a+b+c)\n",
        "print('addition of numbers a,b,c is:',d)\n",
        "e=(a-b-c)\n",
        "print('subraction of numbers a,b,c is :',e)\n",
        "f=(a*b*c)\n",
        "print('multiplication of numbers a,b,c is :',f)"
      ],
      "execution_count": null,
      "outputs": [
        {
          "output_type": "stream",
          "name": "stdout",
          "text": [
            "enter num1: 10\n",
            "enter num2: 20\n",
            "enter num3: 30\n",
            "addition of numbers a,b,c is: 60\n",
            "subraction of numbers a,b,c is : -40\n",
            "multiplication of numbers a,b,c is : 6000\n"
          ]
        }
      ]
    },
    {
      "cell_type": "markdown",
      "metadata": {
        "id": "78nU0DZKkzfU"
      },
      "source": [
        "##Assignment-3\n",
        "\n",
        "---\n",
        "\n",
        "###Accept employee details using input function\n",
        "\n",
        "\n",
        "*   empname\n",
        "\n",
        "*  empdesg\n",
        "\n",
        "*   empsal\n",
        "\n",
        "\n",
        "*  empexp\n",
        "###calculate 15%hike of employee\n",
        "\n"
      ]
    },
    {
      "cell_type": "code",
      "metadata": {
        "colab": {
          "base_uri": "https://localhost:8080/"
        },
        "id": "sOxMievkkz72",
        "outputId": "f4bb0516-55b8-4b2e-ad1e-f4d426762fd2"
      },
      "source": [
        "empname=input('enter employee name:')\n",
        "empdesg=input('enter employee designation:')\n",
        "empsal=float(input('enter employee salary:'))\n",
        "empexp=int(input('enter employee experience:'))\n",
        "emphike=(empsal)*0.15\n",
        "print(emphike)\n"
      ],
      "execution_count": null,
      "outputs": [
        {
          "output_type": "stream",
          "name": "stdout",
          "text": [
            "enter employee name:priya\n",
            "enter employee designation:ml engineer\n",
            "enter employee salary:100000\n",
            "enter employee experience:4\n",
            "15000.0\n"
          ]
        }
      ]
    },
    {
      "cell_type": "markdown",
      "metadata": {
        "id": "cM4yCFXtm5oT"
      },
      "source": [
        "## Assignment-4\n",
        "\n",
        "---\n",
        "###take 4 digit number from user 4593 print in actual and reverse format add total\n"
      ]
    },
    {
      "cell_type": "code",
      "source": [
        "num=input('enter four digit number:')\n",
        "print(num[0])\n",
        "print(num[1])\n",
        "print(num[2])\n",
        "print(num[3])\n",
        "print('***********')\n",
        "print(num[::-1][0])\n",
        "print(num[::-1][1])\n",
        "print(num[::-1][2])\n",
        "print(num[::-1][3])\n",
        "\n"
      ],
      "metadata": {
        "colab": {
          "base_uri": "https://localhost:8080/"
        },
        "id": "tTwtiMvoHD7-",
        "outputId": "677c1848-a21a-4735-97f5-8d79a1a6820d"
      },
      "execution_count": 24,
      "outputs": [
        {
          "output_type": "stream",
          "name": "stdout",
          "text": [
            "enter four digit number:4593\n",
            "4\n",
            "5\n",
            "9\n",
            "3\n",
            "***********\n",
            "3\n",
            "9\n",
            "5\n",
            "4\n"
          ]
        }
      ]
    },
    {
      "cell_type": "markdown",
      "metadata": {
        "id": "2SmZ9skdp076"
      },
      "source": [
        "##Assignment-5\n",
        "\n",
        "\n",
        "---\n",
        "###Take a fruit name from user try to display the individual characters of fruit name\n"
      ]
    },
    {
      "cell_type": "code",
      "metadata": {
        "colab": {
          "base_uri": "https://localhost:8080/"
        },
        "id": "KW4HppoKp1sq",
        "outputId": "797bddb5-5411-494d-b25b-39ae75f5b6cf"
      },
      "source": [
        "fruit=input('enter the fruit name:')\n",
        "print(fruit[0])\n",
        "print(fruit[1])\n",
        "print(fruit[2])\n",
        "print(fruit[3])\n",
        "print(fruit[4])\n",
        "print(fruit[5])"
      ],
      "execution_count": null,
      "outputs": [
        {
          "output_type": "stream",
          "name": "stdout",
          "text": [
            "enter the fruit name:ORANGE\n",
            "O\n",
            "R\n",
            "A\n",
            "N\n",
            "G\n",
            "E\n"
          ]
        }
      ]
    },
    {
      "cell_type": "markdown",
      "metadata": {
        "id": "KYzV_DpQqfLV"
      },
      "source": [
        "##Assignment-6\n",
        "\n",
        "---\n",
        "###Take three digit number from user in integer format--324 and display 423\n"
      ]
    },
    {
      "cell_type": "code",
      "source": [
        "num=int(input('enter three digit number:'))\n",
        "reverse=0\n",
        "while num>0:\n",
        " remainder=num%10\n",
        " rev=((reverse*10)+remainder)\n",
        " \n",
        " num=num//10\n",
        " print('the reverse of given digit is:',rev)"
      ],
      "metadata": {
        "colab": {
          "base_uri": "https://localhost:8080/"
        },
        "id": "ALv_tTIggM6j",
        "outputId": "715beb3f-5476-4bdf-a6a5-0d3e22e508da"
      },
      "execution_count": null,
      "outputs": [
        {
          "output_type": "stream",
          "name": "stdout",
          "text": [
            "enter three digit number:324\n",
            "the reverse of given digit is: 4\n",
            "the reverse of given digit is: 2\n",
            "the reverse of given digit is: 3\n"
          ]
        }
      ]
    }
  ]
}